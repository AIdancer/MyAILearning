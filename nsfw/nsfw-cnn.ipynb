{
 "cells": [
  {
   "cell_type": "code",
   "id": "initial_id",
   "metadata": {
    "collapsed": true,
    "ExecuteTime": {
     "end_time": "2025-06-08T02:45:19.331465Z",
     "start_time": "2025-06-08T02:44:49.950381Z"
    }
   },
   "source": [
    "import os\n",
    "import time\n",
    "import torch\n",
    "import torch.nn as nn\n",
    "import torch.optim as optim\n",
    "import torchvision.models as models\n",
    "from torchvision.models import resnet50, ResNet50_Weights\n",
    "from torch.utils.data import DataLoader, Dataset\n",
    "from torchvision import transforms\n",
    "from torchvision.datasets import ImageFolder\n",
    "from PIL import Image\n",
    "from transformers import ViTModel"
   ],
   "outputs": [],
   "execution_count": 1
  },
  {
   "metadata": {
    "ExecuteTime": {
     "end_time": "2025-06-08T02:45:19.347967Z",
     "start_time": "2025-06-08T02:45:19.339507Z"
    }
   },
   "cell_type": "code",
   "source": [
    "class NsfwDetector(nn.Module):\n",
    "    def __init__(self, num_classes=2, pretrained=True):\n",
    "        super(NsfwDetector, self).__init__()\n",
    "        # 特征提取部分 - 使用CNN和Transformer混合特征\n",
    "        # CNN部分 (使用ResNet50提取局部特征)\n",
    "        # self.cnn_backbone = models.resnet50(pretrained=pretrained)\n",
    "        self.cnn_backbone = resnet50(weights=ResNet50_Weights.DEFAULT)\n",
    "        self.cnn_features = nn.Sequential(*list(self.cnn_backbone.children())[:-2])\n",
    "        # Transformer部分 (使用Vision Transformer提取全局特征)\n",
    "        self.transformer = ViTModel.from_pretrained('google/vit-base-patch16-224' if pretrained else None)\n",
    "        # 特征融合\n",
    "        self.cnn_feature_adapter = nn.Sequential(\n",
    "            nn.Conv2d(2048, 768, kernel_size=1),\n",
    "            nn.BatchNorm2d(768),\n",
    "            nn.ReLU()\n",
    "        )\n",
    "        # 分类头\n",
    "        self.classifier = nn.Sequential(\n",
    "            nn.Linear(768 * 2, 512),\n",
    "            nn.BatchNorm1d(512),\n",
    "            nn.ReLU(),\n",
    "            nn.Dropout(0.5),\n",
    "            nn.Linear(512, num_classes)\n",
    "        )\n",
    "\n",
    "    def forward(self, x):\n",
    "        # CNN特征提取\n",
    "        cnn_feats = self.cnn_features(x)\n",
    "        cnn_feats = self.cnn_feature_adapter(cnn_feats)\n",
    "        cnn_feats = torch.mean(cnn_feats, dim=[2,3])\n",
    "        # Transformer特征提取\n",
    "        transformer_outputs = self.transformer(x)\n",
    "        trans_feats = transformer_outputs.last_hidden_state[:, 0, :]\n",
    "        # 特征融合\n",
    "        combined = torch.cat((cnn_feats, trans_feats), dim=1)\n",
    "        # 分类\n",
    "        output = self.classifier(combined)\n",
    "        return output\n"
   ],
   "id": "22dd5501a68c97b2",
   "outputs": [],
   "execution_count": 2
  },
  {
   "metadata": {
    "ExecuteTime": {
     "end_time": "2025-06-08T02:45:19.987609Z",
     "start_time": "2025-06-08T02:45:19.981800Z"
    }
   },
   "cell_type": "code",
   "source": [
    "class ImagePathDataset(Dataset):\n",
    "    \"\"\"自定义数据集类，用于处理图像路径\"\"\"\n",
    "    def __init__(self, image_paths, transform=None):\n",
    "        self.image_paths = image_paths\n",
    "        self.transform = transform\n",
    "\n",
    "    def __len__(self):\n",
    "        return len(self.image_paths)\n",
    "\n",
    "    def __getitem__(self, idx):\n",
    "        img_path = self.image_paths[idx]\n",
    "        img = Image.open(img_path).convert('RGB')\n",
    "\n",
    "        if self.transform:\n",
    "            img = self.transform(img)\n",
    "\n",
    "        return img, img_path"
   ],
   "id": "dbdfda7577ee7872",
   "outputs": [],
   "execution_count": 3
  },
  {
   "metadata": {
    "ExecuteTime": {
     "end_time": "2025-06-08T02:45:20.301771Z",
     "start_time": "2025-06-08T02:45:19.996559Z"
    }
   },
   "cell_type": "code",
   "source": [
    "class NsfwDetectorPipeline:\n",
    "    def __init__(self, model_path=None, device='cuda' if torch.cuda.is_available() else 'cpu'):\n",
    "        \"\"\"\n",
    "        黄图检测管道类\n",
    "        参数:\n",
    "            model_path: 预训练模型路径\n",
    "            device: 运行设备\n",
    "        \"\"\"\n",
    "        self.device = device\n",
    "        self.model = NsfwDetector(num_classes=2).to(device)\n",
    "        if model_path:\n",
    "            self.model.load_state_dict(torch.load(model_path, map_location=device))\n",
    "        self.model.eval()\n",
    "        # 图像预处理\n",
    "        self.transform = transforms.Compose([\n",
    "            transforms.Resize((224, 224)),\n",
    "            transforms.ToTensor(),\n",
    "            transforms.Normalize(mean=[0.485, 0.456, 0.406], std=[0.229, 0.224, 0.225])\n",
    "        ])\n",
    "\n",
    "    def predict(self, image_path, threshold=0.5):\n",
    "        \"\"\"\n",
    "        预测图像是否为黄图\n",
    "        参数:\n",
    "            image_path: 图像路径\n",
    "            threshold: 判定阈值\n",
    "        返回:\n",
    "            dict: 包含预测结果和置信度\n",
    "        \"\"\"\n",
    "        img = Image.open(image_path).convert('RGB')\n",
    "        img_tensor = self.transform(img).unsqueeze(0).to(self.device)\n",
    "        with torch.no_grad():\n",
    "            outputs = self.model(img_tensor)\n",
    "            probs = torch.softmax(outputs, dim=1)\n",
    "            nsfw_prob = probs[0, 1].item()  # 色情类别的概率\n",
    "        result = {\n",
    "            'is_nsfw': nsfw_prob > threshold,\n",
    "            'confidence': nsfw_prob,\n",
    "            'class': 'nsfw' if nsfw_prob > threshold else 'normal'\n",
    "        }\n",
    "        return result\n",
    "\n",
    "    def predict2(self, image : Image, threshold=0.5):\n",
    "        img_tensor = self.transform(image).unsqueeze(0).to(self.device)\n",
    "        with torch.no_grad():\n",
    "            outputs = self.model(img_tensor)\n",
    "            probs = torch.softmax(outputs, dim=1)\n",
    "            nsfw_prob = probs[0, 1].item()  # 色情类别的概率\n",
    "        result = {\n",
    "            'is_nsfw': nsfw_prob > threshold,\n",
    "            'confidence': nsfw_prob,\n",
    "            'class': 'nsfw' if nsfw_prob > threshold else 'normal'\n",
    "        }\n",
    "        return result\n",
    "\n",
    "    def predict_batch(self, image_paths, threshold=0.5, batch_size=16):\n",
    "        \"\"\"\n",
    "        批量预测多张图像\n",
    "        参数:\n",
    "            image_paths: 图像路径列表\n",
    "            threshold: 判定阈值\n",
    "            batch_size: 批处理大小\n",
    "        返回:\n",
    "            list: 包含每个图像预测结果的字典列表\n",
    "        \"\"\"\n",
    "        # 创建自定义数据集\n",
    "        dataset = ImagePathDataset(image_paths, transform=self.transform)\n",
    "        dataloader = DataLoader(dataset, batch_size=batch_size, shuffle=False, num_workers=0)\n",
    "\n",
    "        start = time.time()\n",
    "        results = []\n",
    "        with torch.no_grad():\n",
    "            for batch_images, batch_paths in dataloader:\n",
    "                batch_images = batch_images.to(self.device)\n",
    "                outputs = self.model(batch_images)\n",
    "                probs = torch.softmax(outputs, dim=1)\n",
    "                nsfw_probs = probs[:, 1].cpu().numpy()\n",
    "\n",
    "                for path, prob in zip(batch_paths, nsfw_probs):\n",
    "                    result = {\n",
    "                        'file_path': path,\n",
    "                        'is_nsfw': prob > threshold,\n",
    "                        'confidence': float(prob),\n",
    "                        'class': 'nsfw' if prob > threshold else 'normal'\n",
    "                    }\n",
    "                    results.append(result)\n",
    "        end = time.time()\n",
    "        print(f\"predict_batch time: {end - start}\")\n",
    "\n",
    "        return results"
   ],
   "id": "d0546f74179b20d8",
   "outputs": [],
   "execution_count": 4
  },
  {
   "metadata": {
    "ExecuteTime": {
     "end_time": "2025-06-08T02:45:20.316625Z",
     "start_time": "2025-06-08T02:45:20.311212Z"
    }
   },
   "cell_type": "code",
   "source": [
    "class NsfwDataset(Dataset):\n",
    "    \"\"\"自定义数据集类\"\"\"\n",
    "    def __init__(self, root_dir, transform=None):\n",
    "        self.dataset = ImageFolder(root_dir, transform=transform)\n",
    "        self.classes = self.dataset.classes\n",
    "        self.transform = transform\n",
    "\n",
    "    def __len__(self):\n",
    "        return len(self.dataset)\n",
    "\n",
    "    def __getitem__(self, idx):\n",
    "        return self.dataset[idx]"
   ],
   "id": "4d7261cb05aad72a",
   "outputs": [],
   "execution_count": 5
  },
  {
   "metadata": {
    "ExecuteTime": {
     "end_time": "2025-06-08T02:45:20.336235Z",
     "start_time": "2025-06-08T02:45:20.325571Z"
    }
   },
   "cell_type": "code",
   "source": [
    "def train_model(train_dir, val_dir, model_save_path, epochs=10, batch_size=32):\n",
    "    \"\"\"\n",
    "    训练黄图检测模型\n",
    "    参数:\n",
    "        train_dir: 训练集目录\n",
    "        val_dir: 验证集目录\n",
    "        model_save_path: 模型保存路径\n",
    "        epochs: 训练轮数\n",
    "        batch_size: 批次大小\n",
    "    \"\"\"\n",
    "    device = torch.device('cuda' if torch.cuda.is_available() else 'cpu')\n",
    "    # 数据预处理\n",
    "    transform = transforms.Compose([\n",
    "        transforms.Resize((224, 224)),\n",
    "        transforms.RandomHorizontalFlip(),\n",
    "        transforms.ToTensor(),\n",
    "        transforms.Normalize(mean=[0.485, 0.456, 0.406], std=[0.229, 0.224, 0.225])\n",
    "    ])\n",
    "    # 创建数据集和数据加载器\n",
    "    train_dataset = NsfwDataset(train_dir, transform=transform)\n",
    "    val_dataset = NsfwDataset(val_dir, transform=transform)\n",
    "\n",
    "    train_loader = DataLoader(train_dataset, batch_size=batch_size, shuffle=True)\n",
    "    val_loader = DataLoader(val_dataset, batch_size=batch_size, shuffle=False)\n",
    "\n",
    "    # 初始化模型\n",
    "    model = NsfwDetector(num_classes=2).to(device)\n",
    "    criterion = nn.CrossEntropyLoss()\n",
    "    optimizer = optim.AdamW(model.parameters(), lr=1e-4, weight_decay=1e-4)\n",
    "\n",
    "    # 训练循环\n",
    "    best_val_acc = 0.0\n",
    "\n",
    "    for epoch in range(epochs):\n",
    "        model.train()\n",
    "        running_loss = 0.0\n",
    "\n",
    "        for images, labels in train_loader:\n",
    "            images, labels = images.to(device), labels.to(device)\n",
    "\n",
    "            optimizer.zero_grad()\n",
    "            outputs = model(images)\n",
    "            loss = criterion(outputs, labels)\n",
    "            loss.backward()\n",
    "            optimizer.step()\n",
    "\n",
    "            running_loss += loss.item()\n",
    "\n",
    "        # 验证\n",
    "        model.eval()\n",
    "        correct = 0\n",
    "        total = 0\n",
    "\n",
    "        with torch.no_grad():\n",
    "            for images, labels in val_loader:\n",
    "                images, labels = images.to(device), labels.to(device)\n",
    "                outputs = model(images)\n",
    "                _, predicted = torch.max(outputs.data, 1)\n",
    "                total += labels.size(0)\n",
    "                correct += (predicted == labels).sum().item()\n",
    "\n",
    "        val_acc = correct / total\n",
    "        print(f'Epoch {epoch+1}/{epochs}, Loss: {running_loss/len(train_loader):.4f}, Val Acc: {val_acc:.4f}')\n",
    "\n",
    "        # 保存最佳模型\n",
    "        if val_acc > best_val_acc:\n",
    "            best_val_acc = val_acc\n",
    "            torch.save(model.state_dict(), model_save_path)\n",
    "            print(f'Best model saved with val acc: {val_acc:.4f}')\n",
    "\n",
    "    print('Training complete.')"
   ],
   "id": "208b0338de4d5240",
   "outputs": [],
   "execution_count": 6
  },
  {
   "metadata": {
    "ExecuteTime": {
     "end_time": "2025-06-08T02:45:20.349134Z",
     "start_time": "2025-06-08T02:45:20.345335Z"
    }
   },
   "cell_type": "code",
   "source": [
    "# train_model(\n",
    "#     train_dir=r'D:\\data\\pics',\n",
    "#     val_dir=r'D:\\data\\pics',\n",
    "#     model_save_path='nsfw_detector.pth',\n",
    "#     epochs=10,\n",
    "#     batch_size=32\n",
    "# )"
   ],
   "id": "6e5122f3012c1bf",
   "outputs": [],
   "execution_count": 7
  },
  {
   "metadata": {
    "ExecuteTime": {
     "end_time": "2025-06-08T02:45:22.960104Z",
     "start_time": "2025-06-08T02:45:20.367848Z"
    }
   },
   "cell_type": "code",
   "source": "detector = NsfwDetectorPipeline(model_path='nsfw_detector.pth', device='cuda')",
   "id": "a5dc81d5678258a2",
   "outputs": [
    {
     "name": "stderr",
     "output_type": "stream",
     "text": [
      "Some weights of ViTModel were not initialized from the model checkpoint at google/vit-base-patch16-224 and are newly initialized: ['pooler.dense.bias', 'pooler.dense.weight']\n",
      "You should probably TRAIN this model on a down-stream task to be able to use it for predictions and inference.\n"
     ]
    }
   ],
   "execution_count": 8
  },
  {
   "metadata": {
    "ExecuteTime": {
     "end_time": "2025-06-08T02:45:31.932349Z",
     "start_time": "2025-06-08T02:45:31.875769Z"
    }
   },
   "cell_type": "code",
   "source": "image = Image.open(r'D:\\data\\pics\\nsfw\\p_4.png')",
   "id": "654447181d79c60a",
   "outputs": [],
   "execution_count": 9
  },
  {
   "metadata": {
    "ExecuteTime": {
     "end_time": "2025-06-08T02:45:33.780054Z",
     "start_time": "2025-06-08T02:45:33.214314Z"
    }
   },
   "cell_type": "code",
   "source": [
    "res = detector.predict2(image)\n",
    "print(res)"
   ],
   "id": "da304fb3851b6a36",
   "outputs": [
    {
     "name": "stdout",
     "output_type": "stream",
     "text": [
      "{'is_nsfw': True, 'confidence': 0.687592089176178, 'class': 'nsfw'}\n"
     ]
    }
   ],
   "execution_count": 10
  },
  {
   "metadata": {
    "ExecuteTime": {
     "end_time": "2025-06-08T02:46:44.683644Z",
     "start_time": "2025-06-08T02:46:32.355148Z"
    }
   },
   "cell_type": "code",
   "source": [
    "root_path = r'D:\\data\\picsall'\n",
    "imgs = []\n",
    "for img in os.listdir(root_path):\n",
    "    imgs.append(os.path.join(root_path, img))\n",
    "imgs = imgs * 10\n",
    "res = detector.predict_batch(imgs)"
   ],
   "id": "9307dab3c5d85183",
   "outputs": [
    {
     "name": "stdout",
     "output_type": "stream",
     "text": [
      "predict_batch time: 12.32150912284851\n"
     ]
    }
   ],
   "execution_count": 13
  },
  {
   "metadata": {},
   "cell_type": "code",
   "source": "",
   "id": "f49a8fa40fca7912",
   "outputs": [],
   "execution_count": null
  }
 ],
 "metadata": {
  "kernelspec": {
   "display_name": "Python 3",
   "language": "python",
   "name": "python3"
  },
  "language_info": {
   "codemirror_mode": {
    "name": "ipython",
    "version": 2
   },
   "file_extension": ".py",
   "mimetype": "text/x-python",
   "name": "python",
   "nbconvert_exporter": "python",
   "pygments_lexer": "ipython2",
   "version": "2.7.6"
  }
 },
 "nbformat": 4,
 "nbformat_minor": 5
}
